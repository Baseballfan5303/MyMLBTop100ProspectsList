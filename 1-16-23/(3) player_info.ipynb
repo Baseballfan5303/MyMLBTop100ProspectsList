{
 "cells": [
  {
   "cell_type": "code",
   "execution_count": 23,
   "metadata": {},
   "outputs": [],
   "source": [
    "import pandas as pd\n",
    "import numpy as np"
   ]
  },
  {
   "cell_type": "code",
   "execution_count": 24,
   "metadata": {},
   "outputs": [],
   "source": [
    "#load in datasets\n",
    "batting = pd.read_csv('(0) batting-1-23.csv')\n",
    "pitching = pd.read_csv('(0) pitching-1-23.csv')\n",
    "\n",
    "prospects = pd.read_csv('(2) prospect-list-sorted.csv')"
   ]
  },
  {
   "cell_type": "code",
   "execution_count": 25,
   "metadata": {},
   "outputs": [],
   "source": [
    "#keep only info for top100 list\n",
    "batting = batting[['Name','Org','Pos','Current Level']]"
   ]
  },
  {
   "cell_type": "code",
   "execution_count": 26,
   "metadata": {},
   "outputs": [],
   "source": [
    "pitching = pitching[['Name','Org','Pos','Current Level']]\n"
   ]
  },
  {
   "cell_type": "code",
   "execution_count": 27,
   "metadata": {},
   "outputs": [],
   "source": [
    "#merge all prospects' info together into one df\n",
    "prospect_info = pd.concat([batting,pitching], axis=0)"
   ]
  },
  {
   "cell_type": "code",
   "execution_count": 28,
   "metadata": {},
   "outputs": [],
   "source": [
    "#keep only the names of the sorted prospects\n",
    "prospects = prospects[['Name']]"
   ]
  },
  {
   "cell_type": "code",
   "execution_count": 29,
   "metadata": {},
   "outputs": [],
   "source": [
    "#merge sorted prospects with their info\n",
    "finalList = pd.merge(prospects, prospect_info, how='inner', on='Name')"
   ]
  },
  {
   "cell_type": "code",
   "execution_count": 30,
   "metadata": {},
   "outputs": [],
   "source": [
    "#make a column so ranking is neater\n",
    "#1:nrow\n",
    "rank = np.arange(1,finalList.shape[0]+1,1)"
   ]
  },
  {
   "cell_type": "code",
   "execution_count": 31,
   "metadata": {},
   "outputs": [],
   "source": [
    "finalList['Rank'] = rank"
   ]
  },
  {
   "cell_type": "code",
   "execution_count": 32,
   "metadata": {},
   "outputs": [],
   "source": [
    "#re-organize cols\n",
    "finalList = finalList[['Rank','Name','Org','Pos','Current Level']]"
   ]
  },
  {
   "cell_type": "code",
   "execution_count": 33,
   "metadata": {},
   "outputs": [],
   "source": [
    "###export final list\n",
    "#all prospects\n",
    "fList = finalList.copy() #make this copy for full team breakdown\n",
    "finalList.to_excel('(4) fullList.xlsx', index=False)\n",
    "\n",
    "#top 100\n",
    "finalList.iloc[0:100,].to_excel('!JAN23-TOP100.xlsx', index=False)"
   ]
  },
  {
   "cell_type": "code",
   "execution_count": 37,
   "metadata": {},
   "outputs": [],
   "source": [
    "#Sort final list by team and by ranking\n",
    "fList = fList.sort_values(['Org', 'Rank'], ascending=[True, True])"
   ]
  },
  {
   "cell_type": "code",
   "execution_count": 68,
   "metadata": {},
   "outputs": [],
   "source": [
    "#Find value counts, sort by team name asc\n",
    "vcs = fList.value_counts('Org').sort_index()\n",
    "\n",
    "#rank players within orgs\n",
    "orgRankList = []\n",
    "for i in range(30):\n",
    "    for j in range(vcs[i]):\n",
    "        orgRankList.append(j+1)\n",
    "\n",
    "#append orgRankList to fList\n",
    "fList['OrgRank'] = orgRankList"
   ]
  },
  {
   "cell_type": "code",
   "execution_count": 70,
   "metadata": {},
   "outputs": [],
   "source": [
    "#Rearrange cols for fList\n",
    "fList = fList[['Org','OrgRank','Rank','Name','Pos','Current Level']]\n",
    "\n",
    "#Export list which was sorted by team and by player overall rank\n",
    "fList.to_excel('(4) fullTeamBreakdown.xlsx', index=False)"
   ]
  },
  {
   "cell_type": "code",
   "execution_count": null,
   "metadata": {},
   "outputs": [],
   "source": []
  }
 ],
 "metadata": {
  "kernelspec": {
   "display_name": "schei_anaconda",
   "language": "python",
   "name": "python3"
  },
  "language_info": {
   "codemirror_mode": {
    "name": "ipython",
    "version": 3
   },
   "file_extension": ".py",
   "mimetype": "text/x-python",
   "name": "python",
   "nbconvert_exporter": "python",
   "pygments_lexer": "ipython3",
   "version": "3.10.8"
  },
  "orig_nbformat": 4,
  "vscode": {
   "interpreter": {
    "hash": "2e386417030351724742f102ee345d637ae84676512c14fc2a35c9e1b8740d38"
   }
  }
 },
 "nbformat": 4,
 "nbformat_minor": 2
}
